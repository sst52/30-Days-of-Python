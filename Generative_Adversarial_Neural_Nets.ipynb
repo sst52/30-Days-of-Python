{
  "nbformat": 4,
  "nbformat_minor": 0,
  "metadata": {
    "colab": {
      "name": "Generative Adversarial Neural Nets.ipynb",
      "provenance": [],
      "include_colab_link": true
    },
    "kernelspec": {
      "name": "python3",
      "display_name": "Python 3"
    },
    "accelerator": "GPU"
  },
  "cells": [
    {
      "cell_type": "markdown",
      "metadata": {
        "id": "view-in-github",
        "colab_type": "text"
      },
      "source": [
        "<a href=\"https://colab.research.google.com/github/sst52/30-Days-of-Python/blob/master/Generative_Adversarial_Neural_Nets.ipynb\" target=\"_parent\"><img src=\"https://colab.research.google.com/assets/colab-badge.svg\" alt=\"Open In Colab\"/></a>"
      ]
    },
    {
      "cell_type": "code",
      "metadata": {
        "id": "XFM39XLBsP_J",
        "colab_type": "code",
        "colab": {}
      },
      "source": [
        "# Downloading and Supporting dataset\n",
        "\n",
        "import os\n",
        "import zipfile\n",
        "import requests\n",
        "import math\n",
        "import numpy as np\n",
        "from PIL import Image\n",
        "from tqdm import tqdm\n",
        "\n",
        "DEBUG = False\n",
        "\n",
        "def get_confirm_token(response):\n",
        "  for key, value in response.cookies.items():\n",
        "    if key.startswith('download_warning'):\n",
        "      return value\n",
        "  return None\n",
        "\n",
        "def save_response_content(response, destination, chunk_size=32*1024):\n",
        "  total_size = int(response.headers.get('content-length', 0))\n",
        "  with open(destination, \"wb\") as f:\n",
        "    for chunk in tqdm(response.iter_content(chunk_size), total=total_size,\n",
        "\t\tunit='B', unit_scale=True, desc=destination):\n",
        "      if chunk: # filter out keep-alive new chunks\n",
        "        f.write(chunk)\n",
        "\n",
        "def download_file_from_google_drive(id, destination):\n",
        "  print(\"Downloading into ./data/... Please wait.\")\n",
        "  URL = \"https://docs.google.com/uc?export=download\"\n",
        "  session = requests.Session()\n",
        "\n",
        "  response = session.get(URL, params={ 'id': id }, stream=True)\n",
        "  token = get_confirm_token(response)\n",
        "\n",
        "  if token:\n",
        "    params = { 'id' : id, 'confirm' : token }\n",
        "    response = session.get(URL, params=params, stream=True)\n",
        "\n",
        "  save_response_content(response, destination)\n",
        "  print(\"Done.\")\n",
        "\n",
        "def download_celeb_a():\n",
        "  dirpath = './data'\n",
        "  data_dir = 'celebA'\n",
        "  if os.path.exists(os.path.join(dirpath, data_dir)):\n",
        "    print('Found Celeb-A - skip')\n",
        "    return\n",
        "\n",
        "  filename, drive_id  = \"img_align_celeba.zip\", \"0B7EVK8r0v71pZjFTYXZWM3FlRnM\"\n",
        "  save_path = os.path.join(dirpath, filename)\n",
        "\n",
        "  if os.path.exists(save_path):\n",
        "    print('[*] {} already exists'.format(save_path))\n",
        "  else:\n",
        "    download_file_from_google_drive(drive_id, save_path)\n",
        "\n",
        "  if not DEBUG:\n",
        "    zip_dir = ''\n",
        "    with zipfile.ZipFile(save_path) as zf:\n",
        "      zip_dir = zf.namelist()[0]\n",
        "      zf.extractall(dirpath)\n",
        "    os.remove(save_path)\n",
        "    os.rename(os.path.join(dirpath, zip_dir), os.path.join(dirpath, data_dir))\n",
        "\n",
        "def images_square_grid(images, mode='RGB'):\n",
        "    \n",
        "    # Get maximum size for square grid of images\n",
        "    save_size = math.floor(tf.sqrt(images.shape[0]))\n",
        "    # Scale to 0-255\n",
        "    images = (((images - images.min()) * 255) / (images.max() - images.min())).astype(np.uint8)\n",
        "    # Put images in a square arrangement\n",
        "    images_in_square = tf.reshape(\n",
        "            images[:save_size*save_size],\n",
        "            (save_size, save_size, images.shape[1], images.shape[2], images.shape[3]))\n",
        "    # Combine images to grid image\n",
        "    new_im = Image.new(mode, (images.shape[1] * save_size, images.shape[2] * save_size))\n",
        "    for col_i, col_images in enumerate(images_in_square):\n",
        "        for image_i, image in enumerate(col_images):\n",
        "            im = Image.fromarray(image, mode)\n",
        "            new_im.paste(im, (col_i * images.shape[1], image_i * images.shape[2]))\n",
        "\n",
        "    return new_im"
      ],
      "execution_count": 0,
      "outputs": []
    },
    {
      "cell_type": "code",
      "metadata": {
        "id": "UQWv54LEsgtb",
        "colab_type": "code",
        "colab": {
          "base_uri": "https://localhost:8080/",
          "height": 34
        },
        "outputId": "bc0f52f0-e443-475d-8325-0adf265b95e6"
      },
      "source": [
        "# python spyder notebook\n",
        "# @author:sunkara\n",
        "\n",
        "data_dir = './content/data'\n",
        "download_celeb_a()"
      ],
      "execution_count": 23,
      "outputs": [
        {
          "output_type": "stream",
          "text": [
            "Found Celeb-A - skip\n"
          ],
          "name": "stdout"
        }
      ]
    },
    {
      "cell_type": "code",
      "metadata": {
        "id": "3LRvc7jCsrvu",
        "colab_type": "code",
        "colab": {}
      },
      "source": [
        "%matplotlib inline\n",
        "import os\n",
        "from glob import glob\n",
        "from matplotlib import pyplot\n",
        "from PIL import Image\n",
        "import numpy as np"
      ],
      "execution_count": 0,
      "outputs": []
    },
    {
      "cell_type": "code",
      "metadata": {
        "id": "5aFJO7Wjs4b4",
        "colab_type": "code",
        "colab": {}
      },
      "source": [
        "# Image configuration\n",
        "IMAGE_HEIGHT = 28\n",
        "IMAGE_WIDTH = 28\n",
        "data_files = glob(os.path.join(data_dir, 'celebA/*.jpg'))\n",
        "shape = len(data_files), IMAGE_WIDTH, IMAGE_HEIGHT, 3\n",
        "\n",
        "def get_image(image_path, width, height, mode):\n",
        "\n",
        "    image = Image.open(image_path)\n",
        "\n",
        "    '''\n",
        "    if image.size != (width, height):\n",
        "        # Remove most pixels that aren't part of a face\n",
        "        face_width = face_height = 108\n",
        "        j = (image.size[0] - face_width) // 2\n",
        "        i = (image.size[1] - face_height) // 2\n",
        "        image = image.crop([j, i, j + face_width, i + face_height])\n",
        "        image = image.resize([width, height], Image.BILINEAR)\n",
        "    '''\n",
        "    return np.array(image.convert(mode))"
      ],
      "execution_count": 0,
      "outputs": []
    },
    {
      "cell_type": "code",
      "metadata": {
        "id": "Z3PM-BUNs8WW",
        "colab_type": "code",
        "colab": {}
      },
      "source": [
        "def get_batch(image_files, width, height, mode='RGB'):\n",
        "    \"\"\"\n",
        "    Get a single image\n",
        "    \"\"\"\n",
        "    data_batch = np.array(\n",
        "        [get_image(sample_file, width, height, mode) for sample_file in image_files]).astype(np.float32)\n",
        "\n",
        "    # Make sure the images are in 4 dimensions\n",
        "    if len(data_batch.shape) < 4:\n",
        "        data_batch = data_batch.reshape(data_batch.shape + (1,))\n",
        "\n",
        "    return data_batch"
      ],
      "execution_count": 0,
      "outputs": []
    },
    {
      "cell_type": "code",
      "metadata": {
        "id": "ogk5vFziurOb",
        "colab_type": "code",
        "colab": {}
      },
      "source": [
        "def get_batches(batch_size):\n",
        "    \"\"\"\n",
        "    Generate batches\n",
        "    \"\"\"\n",
        "    IMAGE_MAX_VALUE = 255\n",
        "\n",
        "\n",
        "    current_index = 0\n",
        "    while current_index + batch_size <= shape[0]:\n",
        "        data_batch = get_batch(\n",
        "            data_files[current_index:current_index + batch_size],\n",
        "            *shape[1:3])\n",
        "\n",
        "        current_index += batch_size\n",
        "\n",
        "        yield data_batch / IMAGE_MAX_VALUE - 0.5"
      ],
      "execution_count": 0,
      "outputs": []
    },
    {
      "cell_type": "code",
      "metadata": {
        "id": "vlQXALasu0c4",
        "colab_type": "code",
        "colab": {
          "base_uri": "https://localhost:8080/",
          "height": 137
        },
        "outputId": "45cf1083-bc84-43b8-de7b-514da76b8d95"
      },
      "source": [
        "test_images = get_batch(glob(os.path.join(data_dir, 'celebA/*.jpg'))[:10], 56, 56)\n",
        "pyplot.imshow(test_images)"
      ],
      "execution_count": 34,
      "outputs": [
        {
          "output_type": "stream",
          "text": [
            "/usr/local/lib/python3.6/dist-packages/matplotlib/image.py:857: UserWarning: Attempting to set identical bottom==top results\n",
            "in singular transformations; automatically expanding.\n",
            "bottom=-0.5, top=-0.5\n",
            "  self.axes.set_ylim((ymin, ymax), auto=None)\n"
          ],
          "name": "stderr"
        },
        {
          "output_type": "execute_result",
          "data": {
            "text/plain": [
              "<matplotlib.image.AxesImage at 0x7fd05fca4f60>"
            ]
          },
          "metadata": {
            "tags": []
          },
          "execution_count": 34
        },
        {
          "output_type": "display_data",
          "data": {
            "image/png": "[encoded data removed]",
            "text/plain": [
              "<Figure size 432x288 with 1 Axes>"
            ]
          },
          "metadata": {
            "tags": []
          }
        }
      ]
    },
    {
      "cell_type": "code",
      "metadata": {
        "id": "oD_tO776u3hG",
        "colab_type": "code",
        "colab": {}
      },
      "source": [
        "import tensorflow as tf\n",
        "\n",
        "def model_inputs(image_width, image_height, image_channels, z_dim):\n",
        "    inputs_real = tf.placeholder(tf.float32, shape=(None, image_width, image_height, image_channels), name='input_real') \n",
        "    inputs_z = tf.placeholder(tf.float32, (None, z_dim), name='input_z')\n",
        "    learning_rate = tf.placeholder(tf.float32, name='learning_rate')\n",
        "    \n",
        "    return inputs_real, inputs_z, learning_rate"
      ],
      "execution_count": 0,
      "outputs": []
    },
    {
      "cell_type": "code",
      "metadata": {
        "id": "QWzKIYslvagO",
        "colab_type": "code",
        "colab": {}
      },
      "source": [
        "def generator(z, out_channel_dim, is_train=True):\n",
        "    alpha = 0.2\n",
        "    \n",
        "    with tf.variable_scope('generator', reuse=False if is_train==True else True):\n",
        "        # First fully connected layer\n",
        "        x_1 = tf.layers.dense(z, 2*2*512)\n",
        "        \n",
        "        # Reshape it to start the convolutional stack\n",
        "        deconv_2 = tf.reshape(x_1, (-1, 2, 2, 512))\n",
        "        batch_norm2 = tf.layers.batch_normalization(deconv_2, training=is_train)\n",
        "        lrelu2 = tf.maximum(alpha * batch_norm2, batch_norm2)\n",
        "        \n",
        "        # Deconv 1\n",
        "        deconv3 = tf.layers.conv2d_transpose(lrelu2, 256, 5, 2, padding='VALID')\n",
        "        batch_norm3 = tf.layers.batch_normalization(deconv3, training=is_train)\n",
        "        lrelu3 = tf.maximum(alpha * batch_norm3, batch_norm3)\n",
        "        \n",
        "        \n",
        "        # Deconv 2\n",
        "        deconv4 = tf.layers.conv2d_transpose(lrelu3, 128, 5, 2, padding='SAME')\n",
        "        batch_norm4 = tf.layers.batch_normalization(deconv4, training=is_train)\n",
        "        lrelu4 = tf.maximum(alpha * batch_norm4, batch_norm4)\n",
        "        \n",
        "        # Output layer\n",
        "        logits = tf.layers.conv2d_transpose(lrelu4, out_channel_dim, 5, 2, padding='SAME')\n",
        "        \n",
        "        out = tf.tanh(logits)\n",
        "        \n",
        "        return out"
      ],
      "execution_count": 0,
      "outputs": []
    },
    {
      "cell_type": "code",
      "metadata": {
        "id": "4WJfwCG7vkWc",
        "colab_type": "code",
        "colab": {}
      },
      "source": [
        "def discriminator(images, reuse=False):\n",
        "    \n",
        "    alpha = 0.2\n",
        "    \n",
        "    with tf.variable_scope('discriminator', reuse=reuse):\n",
        "        # using 4 layer network as in DCGAN Paper\n",
        "        \n",
        "        # Conv 1\n",
        "        conv1 = tf.layers.conv2d(images, 64, 5, 2, 'SAME')\n",
        "        lrelu1 = tf.maximum(alpha * conv1, conv1)\n",
        "        \n",
        "        # Conv 2\n",
        "        conv2 = tf.layers.conv2d(lrelu1, 128, 5, 2, 'SAME')\n",
        "        batch_norm2 = tf.layers.batch_normalization(conv2, training=True)\n",
        "        lrelu2 = tf.maximum(alpha * batch_norm2, batch_norm2)\n",
        "        \n",
        "        # Conv 3\n",
        "        conv3 = tf.layers.conv2d(lrelu2, 256, 5, 1, 'SAME')\n",
        "        batch_norm3 = tf.layers.batch_normalization(conv3, training=True)\n",
        "        lrelu3 = tf.maximum(alpha * batch_norm3, batch_norm3)\n",
        "       \n",
        "        # Flatten\n",
        "        flat = tf.reshape(lrelu3, (-1, 4*4*256))\n",
        "        \n",
        "        # Logits\n",
        "        logits = tf.layers.dense(flat, 1)\n",
        "        \n",
        "        # Output\n",
        "        out = tf.sigmoid(logits)\n",
        "        \n",
        "        return out, logits"
      ],
      "execution_count": 0,
      "outputs": []
    },
    {
      "cell_type": "code",
      "metadata": {
        "id": "qNxIUhJjvspf",
        "colab_type": "code",
        "colab": {}
      },
      "source": [
        "# loss function\n",
        "def model_loss(input_real, input_z, out_channel_dim):\n",
        "    \n",
        "    label_smoothing = 0.9\n",
        "    \n",
        "    g_model = generator(input_z, out_channel_dim)\n",
        "    d_model_real, d_logits_real = discriminator(input_real)\n",
        "    d_model_fake, d_logits_fake = discriminator(g_model, reuse=True)\n",
        "    \n",
        "    d_loss_real = tf.reduce_mean(\n",
        "        tf.nn.sigmoid_cross_entropy_with_logits(logits=d_logits_real,\n",
        "                                                labels=tf.ones_like(d_model_real) * label_smoothing))\n",
        "    d_loss_fake = tf.reduce_mean(\n",
        "        tf.nn.sigmoid_cross_entropy_with_logits(logits=d_logits_fake,\n",
        "                                                labels=tf.zeros_like(d_model_fake)))\n",
        "    \n",
        "    d_loss = d_loss_real + d_loss_fake\n",
        "                                                  \n",
        "    g_loss = tf.reduce_mean(\n",
        "        tf.nn.sigmoid_cross_entropy_with_logits(logits=d_logits_fake,\n",
        "                                                labels=tf.ones_like(d_model_fake) * label_smoothing))\n",
        "    \n",
        "    \n",
        "    return d_loss, g_loss"
      ],
      "execution_count": 0,
      "outputs": []
    },
    {
      "cell_type": "code",
      "metadata": {
        "id": "K6pp2CFFv379",
        "colab_type": "code",
        "colab": {}
      },
      "source": [
        "# optimization\n",
        "def model_opt(d_loss, g_loss, learning_rate, beta1):\n",
        "    t_vars = tf.trainable_variables()\n",
        "    d_vars = [var for var in t_vars if var.name.startswith('discriminator')]\n",
        "    g_vars = [var for var in t_vars if var.name.startswith('generator')]\n",
        "\n",
        "    # Optimize\n",
        "    with tf.control_dependencies(tf.get_collection(tf.GraphKeys.UPDATE_OPS)): \n",
        "        d_train_opt = tf.train.AdamOptimizer(learning_rate, beta1=beta1).minimize(d_loss, var_list=d_vars)\n",
        "        g_train_opt = tf.train.AdamOptimizer(learning_rate, beta1=beta1).minimize(g_loss, var_list=g_vars)\n",
        "\n",
        "    return d_train_opt, g_train_opt"
      ],
      "execution_count": 0,
      "outputs": []
    },
    {
      "cell_type": "code",
      "metadata": {
        "id": "DX-D3lR_wBMx",
        "colab_type": "code",
        "colab": {}
      },
      "source": [
        "def show_generator_output(sess, n_images, input_z, out_channel_dim):\n",
        "    z_dim = input_z.get_shape().as_list()[-1]\n",
        "    example_z = np.random.uniform(-1, 1, size=[n_images, z_dim])\n",
        "\n",
        "    samples = sess.run(\n",
        "        generator(input_z, out_channel_dim, False),\n",
        "        feed_dict={input_z: example_z})\n",
        "\n",
        "    pyplot.imshow(samples)\n",
        "    pyplot.show()"
      ],
      "execution_count": 0,
      "outputs": []
    },
    {
      "cell_type": "code",
      "metadata": {
        "id": "V0kSZVaewP11",
        "colab_type": "code",
        "colab": {}
      },
      "source": [
        "def train(epoch_count, batch_size, z_dim, learning_rate, beta1, get_batches, data_shape):\n",
        "\n",
        "    input_real, input_z, _ = model_inputs(data_shape[1], data_shape[2], data_shape[3], z_dim)\n",
        "    d_loss, g_loss = model_loss(input_real, input_z, data_shape[3])\n",
        "    d_opt, g_opt = model_opt(d_loss, g_loss, learning_rate, beta1)\n",
        "    \n",
        "    steps = 0\n",
        "    \n",
        "    with tf.Session() as sess:\n",
        "        sess.run(tf.global_variables_initializer())\n",
        "        for epoch_i in range(epoch_count):\n",
        "            for batch_images in get_batches(batch_size):\n",
        "                \n",
        "                # values range from -0.5 to 0.5, therefore scale to range -1, 1\n",
        "                batch_images = batch_images * 2\n",
        "                steps += 1\n",
        "            \n",
        "                batch_z = np.random.uniform(-1, 1, size=(batch_size, z_dim))\n",
        "                \n",
        "                _ = sess.run(d_opt, feed_dict={input_real: batch_images, input_z: batch_z})\n",
        "                _ = sess.run(g_opt, feed_dict={input_real: batch_images, input_z: batch_z})\n",
        "                \n",
        "                if steps % 400 == 0:\n",
        "                    # At the end of every 10 epochs, get the losses and print them out\n",
        "                    train_loss_d = d_loss.eval({input_z: batch_z, input_real: batch_images})\n",
        "                    train_loss_g = g_loss.eval({input_z: batch_z})\n",
        "\n",
        "                    print(\"Epoch {}/{}...\".format(epoch_i+1, epochs),\n",
        "                          \"Discriminator Loss: {:.4f}...\".format(train_loss_d),\n",
        "                          \"Generator Loss: {:.4f}\".format(train_loss_g))\n",
        "                    \n",
        "                    _ = show_generator_output(sess, 1, input_z, data_shape[3])"
      ],
      "execution_count": 0,
      "outputs": []
    },
    {
      "cell_type": "code",
      "metadata": {
        "id": "GTPVP6YJwV93",
        "colab_type": "code",
        "colab": {}
      },
      "source": [
        "batch_size = 16\n",
        "z_dim = 100\n",
        "learning_rate = 0.0002\n",
        "beta1 = 0.5\n",
        "epochs = 2\n",
        "\n",
        "with tf.Graph().as_default():\n",
        "    train(epochs, batch_size, z_dim, learning_rate, beta1, get_batches, shape)"
      ],
      "execution_count": 0,
      "outputs": []
    },
    {
      "cell_type": "code",
      "metadata": {
        "id": "vM0TiYrFwcP-",
        "colab_type": "code",
        "colab": {}
      },
      "source": [
        ""
      ],
      "execution_count": 0,
      "outputs": []
    }
  ]
}